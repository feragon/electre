{
 "cells": [
  {
   "cell_type": "code",
   "execution_count": 15,
   "metadata": {
    "collapsed": true,
    "pycharm": {
     "is_executing": false
    }
   },
   "outputs": [],
   "source": [
    "import pandas"
   ]
  },
  {
   "cell_type": "code",
   "execution_count": 56,
   "outputs": [],
   "source": [
    "projets = [\n",
    "    [-14, 90, 0, 40, 100],\n",
    "    [129, 100, 0, 0, 0],\n",
    "    [-10, 50, 0, 10, 100],\n",
    "    [44, 90, 0, 5, 20],\n",
    "    [-14, 100, 0, 20, 40]\n",
    "]\n",
    "p = [50, 24, 1, 24, 20]\n",
    "q = [25, 16, 0, 12, 10]\n",
    "importance = [1, 1, 1, 1, 1]\n",
    "veto = [100, 60, 2, 48, 90]\n",
    "\n",
    "###########\n",
    "projects_names = ['P' + str(i + 1) for i in range(len(projets))]\n",
    "criterias_names = ['C' + str(i + 1) for i in range(len(projets[0]))]\n",
    "\n",
    "df = pandas.DataFrame(data=projets + [p, q, importance, veto],\n",
    "                      columns=criterias_names,\n",
    "                      index=projects_names + ['Préférence', 'Indifférence', 'Importance', 'Veto'])\n",
    "\n",
    "p=0\n",
    "q=0\n",
    "\n",
    "df"
   ],
   "metadata": {
    "collapsed": false,
    "pycharm": {
     "name": "#%%\n",
     "is_executing": false
    }
   }
  },
  {
   "cell_type": "code",
   "execution_count": 116,
   "outputs": [],
   "source": [
    "k = df.loc[\"Importance\"].sum()\n",
    "\n",
    "concordance = pandas.DataFrame(index=projects_names,\n",
    "                               columns=projects_names)\n",
    "\n",
    "for a in projects_names:\n",
    "    for b in projects_names:\n",
    "        s = 0\n",
    "        for j in criterias_names:\n",
    "            if df.loc[a][j] >= df.loc[b][j] - df.loc[\"Indifférence\"][j]:\n",
    "                indice_concordance = 1\n",
    "            elif df.loc[a][j] <= df.loc[b][j] - df.loc[\"Préférence\"][j]:\n",
    "                indice_concordance = 0\n",
    "            else:\n",
    "                indice_concordance = (df.loc[\"Préférence\"][j] + df.loc[a][j] - df.loc[b][j]) / (df.loc[\"Préférence\"][j] - df.loc[\"Indifférence\"][j])\n",
    "            s += df.loc[\"Importance\"][j] * indice_concordance\n",
    "        concordance.loc[a][b] = 1/k * s\n",
    "\n",
    "concordance"
   ],
   "metadata": {
    "collapsed": false,
    "pycharm": {
     "name": "#%%\n",
     "is_executing": false
    }
   }
  },
  {
   "cell_type": "code",
   "execution_count": 117,
   "outputs": [],
   "source": [
    "credibilite = pandas.DataFrame(index=projects_names,\n",
    "                               columns=projects_names)\n",
    "\n",
    "\n",
    "for a in projects_names:\n",
    "    for b in projects_names:\n",
    "        discordances = pandas.Series(index = criterias_names)\n",
    "        for j in criterias_names:\n",
    "            if df.loc[a][j] >= df.loc[b][j] - df.loc[\"Préférence\"][j]:\n",
    "                discordances[j] = 0\n",
    "            elif df.loc[a][j] <= df.loc[b][j] - df.loc[\"Veto\"][j]:\n",
    "                discordances[j] = 1\n",
    "            else:\n",
    "                discordances[j] = (df.loc[b][j] - df.loc[a][j] - df.loc[\"Préférence\"][j]) / (df.loc[\"Veto\"][j] - df.loc[\"Préférence\"][j])\n",
    "                \n",
    "        J = discordances[discordances > concordance.loc[a][b]].index\n",
    "        \n",
    "        if len(J) == 0:\n",
    "            credibilite.loc[a][b] = concordance.loc[a][b]\n",
    "        else:\n",
    "            credibilite.loc[a][b] = concordance.loc[a][b] * ((1 - discordances[J]) / (1 - concordance.loc[a][b])).product()\n",
    "\n",
    "credibilite"
   ],
   "metadata": {
    "collapsed": false,
    "pycharm": {
     "name": "#%%\n",
     "is_executing": false
    }
   }
  }
 ],
 "metadata": {
  "kernelspec": {
   "name": "python3",
   "language": "python",
   "display_name": "Python 3"
  },
  "language_info": {
   "codemirror_mode": {
    "name": "ipython",
    "version": 2
   },
   "file_extension": ".py",
   "mimetype": "text/x-python",
   "name": "python",
   "nbconvert_exporter": "python",
   "pygments_lexer": "ipython2",
   "version": "2.7.6"
  },
  "pycharm": {
   "stem_cell": {
    "cell_type": "raw",
    "source": [],
    "metadata": {
     "collapsed": false
    }
   }
  }
 },
 "nbformat": 4,
 "nbformat_minor": 0
}