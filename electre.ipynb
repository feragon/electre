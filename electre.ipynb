{
 "cells": [
  {
   "cell_type": "code",
   "execution_count": 1,
   "metadata": {
    "pycharm": {
     "is_executing": false
    }
   },
   "outputs": [],
   "source": [
    "import pandas\n",
    "import numpy"
   ]
  },
  {
   "cell_type": "markdown",
   "metadata": {},
   "source": [
    "## Les données du problème"
   ]
  },
  {
   "cell_type": "code",
   "execution_count": 2,
   "metadata": {
    "pycharm": {
     "is_executing": false,
     "name": "#%%\n"
    }
   },
   "outputs": [],
   "source": [
    "projets = [\n",
    "    [-14, 90, 0, 40, 100],\n",
    "    [129, 100, 0, 0, 0],\n",
    "    [-10, 50, 0, 10, 100],\n",
    "    [44, 90, 0, 5, 20],\n",
    "    [-14, 100, 0, 20, 40]\n",
    "]\n",
    "p = [50, 24, 1, 24, 20]\n",
    "q = [25, 16, 0, 12, 10]\n",
    "importance = [1, 1, 1, 1, 1]\n",
    "veto = [100, 60, 2, 48, 90]"
   ]
  },
  {
   "cell_type": "code",
   "execution_count": 3,
   "metadata": {
    "pycharm": {
     "is_executing": false,
     "name": "#%%\n"
    }
   },
   "outputs": [
    {
     "data": {
      "text/html": [
       "<div>\n",
       "<style scoped>\n",
       "    .dataframe tbody tr th:only-of-type {\n",
       "        vertical-align: middle;\n",
       "    }\n",
       "\n",
       "    .dataframe tbody tr th {\n",
       "        vertical-align: top;\n",
       "    }\n",
       "\n",
       "    .dataframe thead th {\n",
       "        text-align: right;\n",
       "    }\n",
       "</style>\n",
       "<table border=\"1\" class=\"dataframe\">\n",
       "  <thead>\n",
       "    <tr style=\"text-align: right;\">\n",
       "      <th></th>\n",
       "      <th>C1</th>\n",
       "      <th>C2</th>\n",
       "      <th>C3</th>\n",
       "      <th>C4</th>\n",
       "      <th>C5</th>\n",
       "    </tr>\n",
       "  </thead>\n",
       "  <tbody>\n",
       "    <tr>\n",
       "      <th>P1</th>\n",
       "      <td>-14</td>\n",
       "      <td>90</td>\n",
       "      <td>0</td>\n",
       "      <td>40</td>\n",
       "      <td>100</td>\n",
       "    </tr>\n",
       "    <tr>\n",
       "      <th>P2</th>\n",
       "      <td>129</td>\n",
       "      <td>100</td>\n",
       "      <td>0</td>\n",
       "      <td>0</td>\n",
       "      <td>0</td>\n",
       "    </tr>\n",
       "    <tr>\n",
       "      <th>P3</th>\n",
       "      <td>-10</td>\n",
       "      <td>50</td>\n",
       "      <td>0</td>\n",
       "      <td>10</td>\n",
       "      <td>100</td>\n",
       "    </tr>\n",
       "    <tr>\n",
       "      <th>P4</th>\n",
       "      <td>44</td>\n",
       "      <td>90</td>\n",
       "      <td>0</td>\n",
       "      <td>5</td>\n",
       "      <td>20</td>\n",
       "    </tr>\n",
       "    <tr>\n",
       "      <th>P5</th>\n",
       "      <td>-14</td>\n",
       "      <td>100</td>\n",
       "      <td>0</td>\n",
       "      <td>20</td>\n",
       "      <td>40</td>\n",
       "    </tr>\n",
       "    <tr>\n",
       "      <th>Préférence</th>\n",
       "      <td>50</td>\n",
       "      <td>24</td>\n",
       "      <td>1</td>\n",
       "      <td>24</td>\n",
       "      <td>20</td>\n",
       "    </tr>\n",
       "    <tr>\n",
       "      <th>Indifférence</th>\n",
       "      <td>25</td>\n",
       "      <td>16</td>\n",
       "      <td>0</td>\n",
       "      <td>12</td>\n",
       "      <td>10</td>\n",
       "    </tr>\n",
       "    <tr>\n",
       "      <th>Importance</th>\n",
       "      <td>1</td>\n",
       "      <td>1</td>\n",
       "      <td>1</td>\n",
       "      <td>1</td>\n",
       "      <td>1</td>\n",
       "    </tr>\n",
       "    <tr>\n",
       "      <th>Veto</th>\n",
       "      <td>100</td>\n",
       "      <td>60</td>\n",
       "      <td>2</td>\n",
       "      <td>48</td>\n",
       "      <td>90</td>\n",
       "    </tr>\n",
       "  </tbody>\n",
       "</table>\n",
       "</div>"
      ],
      "text/plain": [
       "               C1   C2  C3  C4   C5\n",
       "P1            -14   90   0  40  100\n",
       "P2            129  100   0   0    0\n",
       "P3            -10   50   0  10  100\n",
       "P4             44   90   0   5   20\n",
       "P5            -14  100   0  20   40\n",
       "Préférence     50   24   1  24   20\n",
       "Indifférence   25   16   0  12   10\n",
       "Importance      1    1   1   1    1\n",
       "Veto          100   60   2  48   90"
      ]
     },
     "execution_count": 3,
     "metadata": {},
     "output_type": "execute_result"
    }
   ],
   "source": [
    "projects_names = ['P' + str(i + 1) for i in range(len(projets))]\n",
    "criterias_names = ['C' + str(i + 1) for i in range(len(projets[0]))]\n",
    "\n",
    "df = pandas.DataFrame(data=projets + [p, q, importance, veto],\n",
    "                      columns=criterias_names,\n",
    "                      index=projects_names + ['Préférence', 'Indifférence', 'Importance', 'Veto'])\n",
    "\n",
    "df"
   ]
  },
  {
   "cell_type": "markdown",
   "metadata": {},
   "source": [
    "## Matrice de concordance"
   ]
  },
  {
   "cell_type": "code",
   "execution_count": 4,
   "metadata": {
    "pycharm": {
     "is_executing": false,
     "name": "#%%\n"
    }
   },
   "outputs": [
    {
     "data": {
      "text/html": [
       "<div>\n",
       "<style scoped>\n",
       "    .dataframe tbody tr th:only-of-type {\n",
       "        vertical-align: middle;\n",
       "    }\n",
       "\n",
       "    .dataframe tbody tr th {\n",
       "        vertical-align: top;\n",
       "    }\n",
       "\n",
       "    .dataframe thead th {\n",
       "        text-align: right;\n",
       "    }\n",
       "</style>\n",
       "<table border=\"1\" class=\"dataframe\">\n",
       "  <thead>\n",
       "    <tr style=\"text-align: right;\">\n",
       "      <th></th>\n",
       "      <th>P1</th>\n",
       "      <th>P2</th>\n",
       "      <th>P3</th>\n",
       "      <th>P4</th>\n",
       "      <th>P5</th>\n",
       "    </tr>\n",
       "  </thead>\n",
       "  <tbody>\n",
       "    <tr>\n",
       "      <th>P1</th>\n",
       "      <td>1</td>\n",
       "      <td>0.8</td>\n",
       "      <td>1</td>\n",
       "      <td>0.8</td>\n",
       "      <td>1</td>\n",
       "    </tr>\n",
       "    <tr>\n",
       "      <th>P2</th>\n",
       "      <td>0.6</td>\n",
       "      <td>1</td>\n",
       "      <td>0.8</td>\n",
       "      <td>0.8</td>\n",
       "      <td>0.666667</td>\n",
       "    </tr>\n",
       "    <tr>\n",
       "      <th>P3</th>\n",
       "      <td>0.6</td>\n",
       "      <td>0.6</td>\n",
       "      <td>1</td>\n",
       "      <td>0.6</td>\n",
       "      <td>0.8</td>\n",
       "    </tr>\n",
       "    <tr>\n",
       "      <th>P4</th>\n",
       "      <td>0.6</td>\n",
       "      <td>0.8</td>\n",
       "      <td>0.8</td>\n",
       "      <td>1</td>\n",
       "      <td>0.75</td>\n",
       "    </tr>\n",
       "    <tr>\n",
       "      <th>P5</th>\n",
       "      <td>0.666667</td>\n",
       "      <td>0.8</td>\n",
       "      <td>0.8</td>\n",
       "      <td>0.8</td>\n",
       "      <td>1</td>\n",
       "    </tr>\n",
       "  </tbody>\n",
       "</table>\n",
       "</div>"
      ],
      "text/plain": [
       "          P1   P2   P3   P4        P5\n",
       "P1         1  0.8    1  0.8         1\n",
       "P2       0.6    1  0.8  0.8  0.666667\n",
       "P3       0.6  0.6    1  0.6       0.8\n",
       "P4       0.6  0.8  0.8    1      0.75\n",
       "P5  0.666667  0.8  0.8  0.8         1"
      ]
     },
     "execution_count": 4,
     "metadata": {},
     "output_type": "execute_result"
    }
   ],
   "source": [
    "k = df.loc[\"Importance\"].sum()\n",
    "\n",
    "concordance = pandas.DataFrame(index=projects_names,\n",
    "                               columns=projects_names)\n",
    "\n",
    "for a in projects_names:\n",
    "    for b in projects_names:\n",
    "        s = 0\n",
    "        for j in criterias_names:\n",
    "            if df.loc[a][j] >= df.loc[b][j] - df.loc[\"Indifférence\"][j]:\n",
    "                indice_concordance = 1\n",
    "            elif df.loc[a][j] <= df.loc[b][j] - df.loc[\"Préférence\"][j]:\n",
    "                indice_concordance = 0\n",
    "            else:\n",
    "                indice_concordance = (df.loc[\"Préférence\"][j] + df.loc[a][j] - df.loc[b][j]) / (df.loc[\"Préférence\"][j] - df.loc[\"Indifférence\"][j])\n",
    "            s += df.loc[\"Importance\"][j] * indice_concordance\n",
    "        concordance.loc[a][b] = 1/k * s\n",
    "\n",
    "concordance"
   ]
  },
  {
   "cell_type": "markdown",
   "metadata": {},
   "source": [
    "## Matrice de crédibilité"
   ]
  },
  {
   "cell_type": "code",
   "execution_count": 5,
   "metadata": {
    "pycharm": {
     "is_executing": false,
     "name": "#%%\n"
    }
   },
   "outputs": [
    {
     "data": {
      "text/html": [
       "<div>\n",
       "<style scoped>\n",
       "    .dataframe tbody tr th:only-of-type {\n",
       "        vertical-align: middle;\n",
       "    }\n",
       "\n",
       "    .dataframe tbody tr th {\n",
       "        vertical-align: top;\n",
       "    }\n",
       "\n",
       "    .dataframe thead th {\n",
       "        text-align: right;\n",
       "    }\n",
       "</style>\n",
       "<table border=\"1\" class=\"dataframe\">\n",
       "  <thead>\n",
       "    <tr style=\"text-align: right;\">\n",
       "      <th></th>\n",
       "      <th>P1</th>\n",
       "      <th>P2</th>\n",
       "      <th>P3</th>\n",
       "      <th>P4</th>\n",
       "      <th>P5</th>\n",
       "    </tr>\n",
       "  </thead>\n",
       "  <tbody>\n",
       "    <tr>\n",
       "      <th>P1</th>\n",
       "      <td>1</td>\n",
       "      <td>0</td>\n",
       "      <td>1</td>\n",
       "      <td>0.8</td>\n",
       "      <td>1</td>\n",
       "    </tr>\n",
       "    <tr>\n",
       "      <th>P2</th>\n",
       "      <td>0</td>\n",
       "      <td>1</td>\n",
       "      <td>0</td>\n",
       "      <td>0.8</td>\n",
       "      <td>0.666667</td>\n",
       "    </tr>\n",
       "    <tr>\n",
       "      <th>P3</th>\n",
       "      <td>0.6</td>\n",
       "      <td>0</td>\n",
       "      <td>1</td>\n",
       "      <td>0.6</td>\n",
       "      <td>0.8</td>\n",
       "    </tr>\n",
       "    <tr>\n",
       "      <th>P4</th>\n",
       "      <td>0.6</td>\n",
       "      <td>0.8</td>\n",
       "      <td>0.8</td>\n",
       "      <td>1</td>\n",
       "      <td>0.75</td>\n",
       "    </tr>\n",
       "    <tr>\n",
       "      <th>P5</th>\n",
       "      <td>0.666667</td>\n",
       "      <td>0</td>\n",
       "      <td>0.8</td>\n",
       "      <td>0.8</td>\n",
       "      <td>1</td>\n",
       "    </tr>\n",
       "  </tbody>\n",
       "</table>\n",
       "</div>"
      ],
      "text/plain": [
       "          P1   P2   P3   P4        P5\n",
       "P1         1    0    1  0.8         1\n",
       "P2         0    1    0  0.8  0.666667\n",
       "P3       0.6    0    1  0.6       0.8\n",
       "P4       0.6  0.8  0.8    1      0.75\n",
       "P5  0.666667    0  0.8  0.8         1"
      ]
     },
     "execution_count": 5,
     "metadata": {},
     "output_type": "execute_result"
    }
   ],
   "source": [
    "credibilite = pandas.DataFrame(index=projects_names,\n",
    "                               columns=projects_names)\n",
    "\n",
    "for a in projects_names:\n",
    "    for b in projects_names:\n",
    "        discordances = pandas.Series(index = criterias_names, dtype=int)\n",
    "        for j in criterias_names:\n",
    "            if df.loc[a][j] >= df.loc[b][j] - df.loc[\"Préférence\"][j]:\n",
    "                discordances[j] = 0\n",
    "            elif df.loc[a][j] <= df.loc[b][j] - df.loc[\"Veto\"][j]:\n",
    "                discordances[j] = 1\n",
    "            else:\n",
    "                discordances[j] = (df.loc[b][j] - df.loc[a][j] - df.loc[\"Préférence\"][j]) / (df.loc[\"Veto\"][j] - df.loc[\"Préférence\"][j])\n",
    "                \n",
    "        J = discordances[discordances > concordance.loc[a][b]].index\n",
    "\n",
    "        if len(J) == 0:\n",
    "            credibilite.loc[a][b] = concordance.loc[a][b]\n",
    "        else:\n",
    "            credibilite.loc[a][b] = concordance.loc[a][b] * ((1 - discordances[J]) / (1 - concordance.loc[a][b])).product()\n",
    "\n",
    "credibilite"
   ]
  },
  {
   "cell_type": "markdown",
   "metadata": {},
   "source": [
    "## Distillation ascendante"
   ]
  },
  {
   "cell_type": "code",
   "execution_count": 6,
   "metadata": {},
   "outputs": [
    {
     "data": {
      "text/plain": [
       "['P1', 'P4']"
      ]
     },
     "execution_count": 6,
     "metadata": {},
     "output_type": "execute_result"
    }
   ],
   "source": [
    "alpha = 0.4 # normalement mettre 0.3\n",
    "beta = -0.15\n",
    "\n",
    "order = []\n",
    "\n",
    "credibilite2 = credibilite.copy()\n",
    "\n",
    "for i in range(0,len(credibilite)):\n",
    "    lamba = numpy.amax(credibilite2.to_numpy())\n",
    "    s_lamba = alpha + beta * lamba\n",
    "    qualification = pandas.Series(index = credibilite2.columns, dtype=int)\n",
    "    for a in credibilite2.columns:\n",
    "        for b in credibilite2.index.values:\n",
    "            if a != b and credibilite2.loc[a][b] >= lamba - s_lamba \\\n",
    "            and abs(credibilite2.loc[a][b] - credibilite2.loc[b][a]) <= s_lamba:\n",
    "                #print(\"{} -> {}\".format(a, b))\n",
    "                qualification[a]+=1\n",
    "                qualification[b]-=1\n",
    "\n",
    "    max_qual = qualification.idxmax()\n",
    "    # On arrête si on a pas de meilleur TODO voir comment faire\n",
    "    if (qualification == 0).all():\n",
    "        break\n",
    "    credibilite2 = credibilite2.drop(max_qual, 0)\n",
    "    credibilite2 = credibilite2.drop(max_qual, 1)\n",
    "    order.append(max_qual)\n",
    "\n",
    "order"
   ]
  }
 ],
 "metadata": {
  "kernelspec": {
   "display_name": "Python 3",
   "language": "python",
   "name": "python3"
  },
  "language_info": {
   "codemirror_mode": {
    "name": "ipython",
    "version": 3
   },
   "file_extension": ".py",
   "mimetype": "text/x-python",
   "name": "python",
   "nbconvert_exporter": "python",
   "pygments_lexer": "ipython3",
   "version": "3.7.6"
  },
  "pycharm": {
   "stem_cell": {
    "cell_type": "raw",
    "metadata": {
     "collapsed": false
    },
    "source": []
   }
  }
 },
 "nbformat": 4,
 "nbformat_minor": 4
}
